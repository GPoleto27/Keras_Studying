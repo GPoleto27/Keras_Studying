{
  "nbformat": 4,
  "nbformat_minor": 0,
  "metadata": {
    "colab": {
      "name": "MNIST_Keras.ipynb",
      "provenance": [],
      "authorship_tag": "ABX9TyORf1L+ikfsfqnhAelwy32W",
      "include_colab_link": true
    },
    "kernelspec": {
      "name": "python3",
      "display_name": "Python 3"
    },
    "accelerator": "GPU"
  },
  "cells": [
    {
      "cell_type": "markdown",
      "metadata": {
        "id": "view-in-github",
        "colab_type": "text"
      },
      "source": [
        "<a href=\"https://colab.research.google.com/github/GPoleto27/Keras_Studying/blob/main/MNIST_Keras.ipynb\" target=\"_parent\"><img src=\"https://colab.research.google.com/assets/colab-badge.svg\" alt=\"Open In Colab\"/></a>"
      ]
    },
    {
      "cell_type": "code",
      "metadata": {
        "id": "cgDQJ97__kZo",
        "outputId": "493c71a5-c0e3-4840-b519-9d57ca9266ef",
        "colab": {
          "base_uri": "https://localhost:8080/"
        }
      },
      "source": [
        "!pip install mnist"
      ],
      "execution_count": 1,
      "outputs": [
        {
          "output_type": "stream",
          "name": "stdout",
          "text": [
            "Requirement already satisfied: mnist in /usr/local/lib/python3.7/dist-packages (0.2.2)\n",
            "Requirement already satisfied: numpy in /usr/local/lib/python3.7/dist-packages (from mnist) (1.21.5)\n"
          ]
        }
      ]
    },
    {
      "cell_type": "code",
      "metadata": {
        "id": "pYESqTer_sj_"
      },
      "source": [
        "import numpy as np\n",
        "import mnist\n",
        "from tensorflow import keras"
      ],
      "execution_count": 2,
      "outputs": []
    },
    {
      "cell_type": "code",
      "metadata": {
        "id": "VcfQlczc_nTn"
      },
      "source": [
        "train_images = mnist.train_images()\n",
        "train_labels = mnist.train_labels()"
      ],
      "execution_count": 3,
      "outputs": []
    },
    {
      "cell_type": "code",
      "metadata": {
        "id": "QbYZyMB-_5n_",
        "outputId": "76c0234c-6b80-4e37-89ce-8b45b1c195e3",
        "colab": {
          "base_uri": "https://localhost:8080/"
        }
      },
      "source": [
        "print(train_images.shape) # (60000, 28, 28)\n",
        "print(train_labels.shape) # (60000,)"
      ],
      "execution_count": 4,
      "outputs": [
        {
          "output_type": "stream",
          "name": "stdout",
          "text": [
            "(60000, 28, 28)\n",
            "(60000,)\n"
          ]
        }
      ]
    },
    {
      "cell_type": "code",
      "source": [
        "from matplotlib import pyplot as plt\n",
        "img = train_images[0]\n",
        "plt.imshow(img, cmap='gray')"
      ],
      "metadata": {
        "colab": {
          "base_uri": "https://localhost:8080/",
          "height": 283
        },
        "id": "CD-aSMKqtlkI",
        "outputId": "73afdf56-8930-462f-b3ee-3237a9c16884"
      },
      "execution_count": 5,
      "outputs": [
        {
          "output_type": "execute_result",
          "data": {
            "text/plain": [
              "<matplotlib.image.AxesImage at 0x7f292f891d50>"
            ]
          },
          "metadata": {},
          "execution_count": 5
        },
        {
          "output_type": "display_data",
          "data": {
            "image/png": "[encoded data removed]",
            "text/plain": [
              "<Figure size 432x288 with 1 Axes>"
            ]
          },
          "metadata": {
            "needs_background": "light"
          }
        }
      ]
    },
    {
      "cell_type": "code",
      "metadata": {
        "id": "67gp8MKp_9sl"
      },
      "source": [
        "test_images = mnist.test_images()\n",
        "test_labels = mnist.test_labels()"
      ],
      "execution_count": 6,
      "outputs": []
    },
    {
      "cell_type": "code",
      "metadata": {
        "id": "WbC7enKBAEgR"
      },
      "source": [
        "# Normalize the images.\n",
        "train_images = (train_images / 255) - 0.5\n",
        "test_images = (test_images / 255) - 0.5"
      ],
      "execution_count": 7,
      "outputs": []
    },
    {
      "cell_type": "code",
      "metadata": {
        "id": "oH9Lwpt_AF8z"
      },
      "source": [
        "# Flatten the images.\n",
        "#train_images = train_images.reshape((-1, 784))\n",
        "#test_images = test_images.reshape((-1, 784))"
      ],
      "execution_count": 8,
      "outputs": []
    },
    {
      "cell_type": "code",
      "metadata": {
        "id": "he8qaA9GAH3R",
        "outputId": "2020eb61-c32c-4348-de3f-d4be269762ab",
        "colab": {
          "base_uri": "https://localhost:8080/"
        }
      },
      "source": [
        "print(train_images.shape) # (60000, 784)\n",
        "print(test_images.shape)  # (10000, 784)"
      ],
      "execution_count": 9,
      "outputs": [
        {
          "output_type": "stream",
          "name": "stdout",
          "text": [
            "(60000, 28, 28)\n",
            "(10000, 28, 28)\n"
          ]
        }
      ]
    },
    {
      "cell_type": "code",
      "metadata": {
        "id": "JyPp1xy8AKRx"
      },
      "source": [
        "from tensorflow.keras.models import Sequential\n",
        "from tensorflow.keras.layers import Dense, Conv2D, MaxPooling2D, Flatten"
      ],
      "execution_count": 10,
      "outputs": []
    },
    {
      "cell_type": "code",
      "metadata": {
        "id": "fNdbBGNrBsY8"
      },
      "source": [
        "model = Sequential([\n",
        "                    Conv2D(filters=32, kernel_size=(5,5), activation='relu', padding='same', input_shape=(28,28,1)),\n",
        "                    Flatten(),\n",
        "                    Dense(10, activation='softmax'),\n",
        "])"
      ],
      "execution_count": 11,
      "outputs": []
    },
    {
      "cell_type": "code",
      "metadata": {
        "id": "KyPD5WpFBzWA"
      },
      "source": [
        "model.compile(\n",
        "  optimizer='adam',\n",
        "  loss='categorical_crossentropy',\n",
        "  metrics=['accuracy'],\n",
        ")"
      ],
      "execution_count": 12,
      "outputs": []
    },
    {
      "cell_type": "code",
      "metadata": {
        "id": "F9ew5TnACa86"
      },
      "source": [
        "from tensorflow.keras.utils import to_categorical"
      ],
      "execution_count": 13,
      "outputs": []
    },
    {
      "cell_type": "code",
      "metadata": {
        "id": "z6uUFu3DCv6Y",
        "colab": {
          "base_uri": "https://localhost:8080/"
        },
        "outputId": "09095df0-f815-45c5-b62b-adb09b0a1138"
      },
      "source": [
        "model.fit(\n",
        "  train_images,\n",
        "  to_categorical(train_labels),\n",
        "  epochs=3,\n",
        "  batch_size=64,\n",
        ")"
      ],
      "execution_count": 14,
      "outputs": [
        {
          "output_type": "stream",
          "name": "stdout",
          "text": [
            "Epoch 1/3\n",
            "938/938 [==============================] - 10s 8ms/step - loss: 0.1854 - accuracy: 0.9460\n",
            "Epoch 2/3\n",
            "938/938 [==============================] - 7s 8ms/step - loss: 0.0700 - accuracy: 0.9791\n",
            "Epoch 3/3\n",
            "938/938 [==============================] - 5s 6ms/step - loss: 0.0517 - accuracy: 0.9837\n"
          ]
        },
        {
          "output_type": "execute_result",
          "data": {
            "text/plain": [
              "<keras.callbacks.History at 0x7f292eb4cdd0>"
            ]
          },
          "metadata": {},
          "execution_count": 14
        }
      ]
    },
    {
      "cell_type": "code",
      "metadata": {
        "id": "Y1IKUFPcC0ey",
        "colab": {
          "base_uri": "https://localhost:8080/"
        },
        "outputId": "4a21a001-7a90-4729-b986-3db456e7cbaa"
      },
      "source": [
        "model.evaluate(\n",
        "  test_images,\n",
        "  to_categorical(test_labels)\n",
        ")"
      ],
      "execution_count": 15,
      "outputs": [
        {
          "output_type": "stream",
          "name": "stdout",
          "text": [
            "313/313 [==============================] - 1s 4ms/step - loss: 0.0579 - accuracy: 0.9818\n"
          ]
        },
        {
          "output_type": "execute_result",
          "data": {
            "text/plain": [
              "[0.05790530517697334, 0.9818000197410583]"
            ]
          },
          "metadata": {},
          "execution_count": 15
        }
      ]
    },
    {
      "cell_type": "code",
      "metadata": {
        "id": "sNmRkVYPC8V8"
      },
      "source": [
        "model.save_weights('model.h5')"
      ],
      "execution_count": 16,
      "outputs": []
    },
    {
      "cell_type": "code",
      "metadata": {
        "id": "JcIjJ8IxDDma"
      },
      "source": [
        "# Build the model.\n",
        "model = Sequential([\n",
        "                    Conv2D(filters=32, kernel_size=(5,5), activation='relu', padding='same', input_shape=(28,28,1)),\n",
        "                    Flatten(),\n",
        "                    Dense(10, activation='softmax'),\n",
        "])\n",
        "# Load the model's saved weights.\n",
        "model.load_weights('model.h5')"
      ],
      "execution_count": 17,
      "outputs": []
    },
    {
      "cell_type": "code",
      "metadata": {
        "id": "Wue3cVxjDHmo",
        "colab": {
          "base_uri": "https://localhost:8080/"
        },
        "outputId": "a19c9454-9bf6-4f1f-b322-cb64771da5f4"
      },
      "source": [
        "# Predict on the first 5 test images.\n",
        "predictions = model.predict(test_images[:37])\n",
        "\n",
        "# Print our model's predictions.\n",
        "print(\"Predictions: \", np.argmax(predictions, axis=1)) # [7, 2, 1, 0, 4]\n",
        "\n",
        "# Check our predictions against the ground truths.\n",
        "print(\"Ground truth:\", test_labels[:37]) # [7, 2, 1, 0, 4]"
      ],
      "execution_count": 18,
      "outputs": [
        {
          "output_type": "stream",
          "name": "stdout",
          "text": [
            "Predictions:  [7 2 1 0 4 1 4 9 6 9 0 6 9 0 1 5 9 7 3 4 9 6 6 5 4 0 7 4 0 1 3 1 3 4 7 2 7]\n",
            "Ground truth: [7 2 1 0 4 1 4 9 5 9 0 6 9 0 1 5 9 7 3 4 9 6 6 5 4 0 7 4 0 1 3 1 3 4 7 2 7]\n"
          ]
        }
      ]
    },
    {
      "cell_type": "code",
      "source": [
        "import cv2\n",
        "from glob import glob\n",
        "from PIL import Image"
      ],
      "metadata": {
        "id": "BCAtL_Lerv1w"
      },
      "execution_count": 19,
      "outputs": []
    },
    {
      "cell_type": "code",
      "source": [
        "for filename in glob(\"digitos/*.png\"):\n",
        "    frame = cv2.imread(filename, 0)\n",
        "    img = Image.fromarray(frame)\n",
        "    img = img.resize((28,28))\n",
        "    img_array = np.expand_dims(img, axis=0)\n",
        "    prediction = model.predict(img_array)\n",
        "    print(filename.split(\"/\")[-1], \"=\", prediction.argmax())"
      ],
      "metadata": {
        "colab": {
          "base_uri": "https://localhost:8080/"
        },
        "id": "b3YHDaFgoOz4",
        "outputId": "f9ef556a-c1ef-4091-a8a1-783a5392e7e7"
      },
      "execution_count": 20,
      "outputs": [
        {
          "output_type": "stream",
          "name": "stdout",
          "text": [
            "4.png = 4\n",
            "3.png = 3\n",
            "6.png = 5\n",
            "j.png = 8\n",
            "2.png = 3\n",
            "1.png = 1\n",
            "5.png = 5\n",
            "8.png = 8\n",
            "7.png = 3\n",
            "0.png = 0\n",
            "9.png = 9\n"
          ]
        }
      ]
    },
    {
      "cell_type": "code",
      "source": [
        ""
      ],
      "metadata": {
        "id": "V9pc4bdOppJe"
      },
      "execution_count": 20,
      "outputs": []
    }
  ]
}